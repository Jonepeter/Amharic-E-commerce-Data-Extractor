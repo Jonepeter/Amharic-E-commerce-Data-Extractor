{
  "cells": [
    {
      "cell_type": "markdown",
      "metadata": {},
      "source": [
        "## Task 1: Data Ingestion and  Data Preprocessing"
      ]
    },
    {
      "cell_type": "code",
      "execution_count": null,
      "metadata": {
        "colab": {
          "base_uri": "https://localhost:8080/"
        },
        "id": "CWjyeW6yqQZm",
        "outputId": "3ddc9575-fb07-41ba-f7b6-c35cd03b9607"
      },
      "outputs": [
        {
          "name": "stdout",
          "output_type": "stream",
          "text": [
            "Collecting dotenv\n",
            "  Downloading dotenv-0.9.9-py2.py3-none-any.whl.metadata (279 bytes)\n",
            "Collecting python-dotenv (from dotenv)\n",
            "  Downloading python_dotenv-1.1.0-py3-none-any.whl.metadata (24 kB)\n",
            "Downloading dotenv-0.9.9-py2.py3-none-any.whl (1.9 kB)\n",
            "Downloading python_dotenv-1.1.0-py3-none-any.whl (20 kB)\n",
            "Installing collected packages: python-dotenv, dotenv\n",
            "Successfully installed dotenv-0.9.9 python-dotenv-1.1.0\n"
          ]
        }
      ],
      "source": [
        "%pip install dotenv"
      ]
    },
    {
      "cell_type": "code",
      "execution_count": 13,
      "metadata": {
        "colab": {
          "base_uri": "https://localhost:8080/"
        },
        "id": "I28LjjaTWyZs",
        "outputId": "513c3abc-bd8c-4409-f064-471acfecf6e1"
      },
      "outputs": [
        {
          "name": "stdout",
          "output_type": "stream",
          "text": [
            "Please enter your phone (or bot token): +251924788675\n",
            "Please enter the code you received: 31108\n",
            "Please enter your password: ··········\n",
            "Signed in successfully as Petros; remember to not break the ToS or you will risk an account ban!\n",
            "Fetching messages from @ZemenExpress (max 500)...\n",
            "Fetching messages from @Leyueqa (max 500)...\n",
            "Fetching messages from @Shewabrand (max 500)...\n",
            "Fetching messages from @qnashcom (max 500)...\n",
            "Fetching messages from @aradabrand2 (max 500)...\n",
            "All messages saved to data/raw_messages.jsonl\n",
            "All messages also saved to data/raw_messages.csv\n"
          ]
        }
      ],
      "source": [
        "import os\n",
        "import json\n",
        "from telethon import TelegramClient\n",
        "from telethon.tl.types import MessageMediaPhoto, MessageMediaDocument\n",
        "from telethon.errors import SessionPasswordNeededError\n",
        "import asyncio\n",
        "from dotenv import load_dotenv\n",
        "import pandas as pd\n",
        "\n",
        "# ----------------------\n",
        "# Instructions:\n",
        "# 1. Register your app at https://my.telegram.org to get API_ID and API_HASH\n",
        "# 2. Add your API credentials to a .env file (API_ID, API_HASH, PHONE)\n",
        "# 3. Add your target channel usernames to the CHANNELS list\n",
        "# ----------------------\n",
        "load_dotenv()\n",
        "\n",
        "API_ID = os.getenv('API_ID')\n",
        "API_HASH = os.getenv('API_HASHH')\n",
        "SESSION_NAME = 'amharic_ecommerce'\n",
        "CHANNELS = [\n",
        "    '@ZemenExpress',\n",
        "    '@Leyueqa',\n",
        "    '@Shewabrand',\n",
        "    '@qnashcom',\n",
        "    '@aradabrand2'\n",
        "]  # Add at least 5 channels\n",
        "\n",
        "OUTPUT_DIR = '../data/raw'\n",
        "MEDIA_DIR = os.path.join(OUTPUT_DIR, 'media')\n",
        "RAW_DATA_PATH = os.path.join(OUTPUT_DIR, 'raw_messages.jsonl')\n",
        "CSV_DATA_PATH = os.path.join(OUTPUT_DIR, 'raw_messages.csv')\n",
        "\n",
        "os.makedirs(MEDIA_DIR, exist_ok=True)\n",
        "\n",
        "MAX_MESSAGES_PER_CHANNEL = 500  # Set your max limit here\n",
        "\n",
        "client = TelegramClient(SESSION_NAME, API_ID, API_HASH)\n",
        "\n",
        "async def download_media(message, media_dir):\n",
        "    if message.media:\n",
        "        if isinstance(message.media, MessageMediaPhoto):\n",
        "            file_path = await message.download_media(file=media_dir)\n",
        "            return file_path\n",
        "        elif isinstance(message.media, MessageMediaDocument):\n",
        "            file_path = await message.download_media(file=media_dir)\n",
        "            return file_path\n",
        "    return None\n",
        "\n",
        "async def fetch_and_save_messages():\n",
        "    await client.start()\n",
        "    if await client.is_user_authorized() is False:\n",
        "        try:\n",
        "            await client.send_code_request(os.getenv('PHONE'))\n",
        "            await client.sign_in(phone=input('Re-enter your phone number: '), code=input('Enter the code you received: '))\n",
        "        except SessionPasswordNeededError:\n",
        "            await client.sign_in(password=input('Two-step verification enabled. Enter your password: '))\n",
        "\n",
        "    all_messages = []\n",
        "    with open(RAW_DATA_PATH, 'w', encoding='utf-8') as outfile:\n",
        "        for channel in CHANNELS:\n",
        "            print(f'Fetching messages from {channel} (max {MAX_MESSAGES_PER_CHANNEL})...')\n",
        "            count = 0\n",
        "            async for message in client.iter_messages(channel, limit=MAX_MESSAGES_PER_CHANNEL):\n",
        "                msg_data = {\n",
        "                    'channel': channel,\n",
        "                    'message_id': message.id,\n",
        "                    'date': str(message.date),\n",
        "                    'sender_id': message.sender_id,\n",
        "                    'text': message.text,\n",
        "                    'media_type': None,\n",
        "                    'media_path': None,\n",
        "                }\n",
        "                if message.media:\n",
        "                    media_path = await download_media(message, MEDIA_DIR)\n",
        "                    msg_data['media_type'] = type(message.media).__name__\n",
        "                    msg_data['media_path'] = media_path\n",
        "                outfile.write(json.dumps(msg_data, ensure_ascii=False) + '\\n')\n",
        "                all_messages.append(msg_data)\n",
        "                count += 1\n",
        "                if count >= MAX_MESSAGES_PER_CHANNEL:\n",
        "                    break\n",
        "    print(f'All messages saved to {RAW_DATA_PATH}')\n",
        "\n",
        "    # Save to CSV\n",
        "    df = pd.DataFrame(all_messages)\n",
        "    df.to_csv(CSV_DATA_PATH, index=False, encoding='utf-8-sig')\n",
        "    print(f'All messages also saved to {CSV_DATA_PATH}')\n",
        "\n",
        "if __name__ == '__main__':\n",
        "    import nest_asyncio\n",
        "    nest_asyncio.apply()\n",
        "    asyncio.run(fetch_and_save_messages())\n"
      ]
    },
    {
      "cell_type": "code",
      "execution_count": null,
      "metadata": {
        "id": "MqMo4YC66FDn"
      },
      "outputs": [],
      "source": []
    }
  ],
  "metadata": {
    "colab": {
      "provenance": []
    },
    "kernelspec": {
      "display_name": "Python 3",
      "name": "python3"
    },
    "language_info": {
      "name": "python"
    }
  },
  "nbformat": 4,
  "nbformat_minor": 0
}
