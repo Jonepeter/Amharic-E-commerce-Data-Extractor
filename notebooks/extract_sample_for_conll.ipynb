{
 "cells": [
  {
   "cell_type": "markdown",
   "metadata": {},
   "source": [
    "## Task 2: Manual Annotation CoNLL"
   ]
  },
  {
   "cell_type": "code",
   "execution_count": 2,
   "metadata": {},
   "outputs": [],
   "source": [
    "import os\n",
    "import sys\n",
    "\n",
    "system_path = os.path.abspath('..')\n",
    "if system_path not in sys.path:\n",
    "    sys.path.append(system_path)\n",
    "\n",
    "%load_ext autoreload \n",
    "%autoreload 2"
   ]
  },
  {
   "cell_type": "code",
   "execution_count": 3,
   "metadata": {},
   "outputs": [],
   "source": [
    "import csv\n",
    "import re\n",
    "\n",
    "INPUT_CSV = '../data/processed/amharic_ecommerce_data.csv'\n",
    "OUTPUT_FILE = '../data/sample_conll.txt'\n",
    "MAX_MESSAGES = 50\n",
    "\n",
    "def tokenize(text):\n",
    "    # Split on whitespace and punctuation (keep Amharic and English words)\n",
    "    # This regex splits on any non-word character, but keeps Amharic, English, and numbers\n",
    "    tokens = re.findall(r'[\\w\\u1200-\\u137F]+|[\\d]+|[.,!?;:()\"\\'\\-]', text)\n",
    "    return [t for t in tokens if t.strip()]\n"
   ]
  },
  {
   "cell_type": "code",
   "execution_count": 4,
   "metadata": {},
   "outputs": [
    {
     "name": "stdout",
     "output_type": "stream",
     "text": [
      "Wrote 50 messages to ../data/sample_conll.txt\n"
     ]
    }
   ],
   "source": [
    "messages = []\n",
    "with open(INPUT_CSV, encoding='utf-8') as f:\n",
    "    reader = csv.DictReader(f)\n",
    "    for row in reader:\n",
    "        text = row.get('clean_text', '').strip()\n",
    "        if text:\n",
    "            messages.append(text)\n",
    "        if len(messages) >= MAX_MESSAGES:\n",
    "            break\n",
    "with open(OUTPUT_FILE, 'w', encoding='utf-8') as out:\n",
    "    for msg in messages:\n",
    "        tokens = tokenize(msg)\n",
    "        for token in tokens:\n",
    "            out.write(f'{token} O\\n')\n",
    "        out.write('\\n')  # Blank line between messages\n",
    "print(f'Wrote {len(messages)} messages to {OUTPUT_FILE}')"
   ]
  },
  {
   "cell_type": "code",
   "execution_count": null,
   "metadata": {},
   "outputs": [],
   "source": []
  }
 ],
 "metadata": {
  "kernelspec": {
   "display_name": "Python 3",
   "language": "python",
   "name": "python3"
  },
  "language_info": {
   "codemirror_mode": {
    "name": "ipython",
    "version": 3
   },
   "file_extension": ".py",
   "mimetype": "text/x-python",
   "name": "python",
   "nbconvert_exporter": "python",
   "pygments_lexer": "ipython3",
   "version": "3.13.1"
  }
 },
 "nbformat": 4,
 "nbformat_minor": 2
}
